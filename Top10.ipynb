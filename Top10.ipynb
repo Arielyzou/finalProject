{
 "cells": [
  {
   "cell_type": "code",
   "execution_count": 1,
   "id": "036b57d0-2839-4e36-b3d2-23947c8af6db",
   "metadata": {},
   "outputs": [],
   "source": [
    "import numpy as np\n",
    "import pandas as pd"
   ]
  },
  {
   "cell_type": "code",
   "execution_count": 2,
   "id": "57ddea5e-d56c-4969-83a5-d832c5154dfc",
   "metadata": {},
   "outputs": [],
   "source": [
    "df_old = pd.read_csv('311_Service_Requests_2020.csv', low_memory=False)"
   ]
  },
  {
   "cell_type": "code",
   "execution_count": 3,
   "id": "d6432a79-154b-491a-82ab-3a5e1635e56c",
   "metadata": {},
   "outputs": [],
   "source": [
    "df = df_old[df_old['Incident Zip'] == 10025]"
   ]
  },
  {
   "cell_type": "code",
   "execution_count": 5,
   "id": "8e9b17ee-c014-4aad-bc56-39d96d2788db",
   "metadata": {},
   "outputs": [],
   "source": [
    "reasons = df.groupby([\"Complaint Type\"]).size()\n",
    "top10 = reasons.sort_values(ascending=False)[:10]"
   ]
  }
 ],
 "metadata": {
  "kernelspec": {
   "display_name": "Python 3 (ipykernel)",
   "language": "python",
   "name": "python3"
  },
  "language_info": {
   "codemirror_mode": {
    "name": "ipython",
    "version": 3
   },
   "file_extension": ".py",
   "mimetype": "text/x-python",
   "name": "python",
   "nbconvert_exporter": "python",
   "pygments_lexer": "ipython3",
   "version": "3.8.2"
  }
 },
 "nbformat": 4,
 "nbformat_minor": 5
}
