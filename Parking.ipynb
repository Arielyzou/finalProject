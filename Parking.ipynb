{
 "cells": [
  {
   "cell_type": "code",
   "execution_count": 1,
   "id": "9fe57d47-30a6-456d-918c-1326f22ec59b",
   "metadata": {},
   "outputs": [],
   "source": [
    "import numpy as np\n",
    "import pandas as pd"
   ]
  },
  {
   "cell_type": "code",
   "execution_count": 2,
   "id": "446f19f9-364f-46d0-8c8f-c46663ebaf94",
   "metadata": {},
   "outputs": [],
   "source": [
    "df = pd.read_csv('311_Service_Requests_2020.csv', low_memory=False)"
   ]
  },
  {
   "cell_type": "code",
   "execution_count": 3,
   "id": "d7fa6305-492c-43b4-bd4d-f3df52a2f46f",
   "metadata": {},
   "outputs": [],
   "source": [
    "# illegal parking incidents fraction in total\n",
    "df_ill = df[df['Complaint Type']== 'Illegal Parking']\n",
    "total_perc = df_ill['Complaint Type'].count()/(df['Complaint Type'].count())\n",
    "\n",
    "# illegal parking incidents fraction in sub-area --> zip=10025\n",
    "df2 = df[df['Incident Zip'] == 10025]\n",
    "df2_ill = df2[df2['Complaint Type']== 'Illegal Parking']\n",
    "sub_perc = df2_ill['Complaint Type'].count()/(df2['Complaint Type'].count())\n",
    "\n",
    "# higher_parking_proportion\n",
    "higher_parking_proportion = bool(sub_perc > total_perc)"
   ]
  }
 ],
 "metadata": {
  "kernelspec": {
   "display_name": "Python 3 (ipykernel)",
   "language": "python",
   "name": "python3"
  },
  "language_info": {
   "codemirror_mode": {
    "name": "ipython",
    "version": 3
   },
   "file_extension": ".py",
   "mimetype": "text/x-python",
   "name": "python",
   "nbconvert_exporter": "python",
   "pygments_lexer": "ipython3",
   "version": "3.8.2"
  }
 },
 "nbformat": 4,
 "nbformat_minor": 5
}
